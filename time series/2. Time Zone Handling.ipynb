{
 "cells": [
  {
   "cell_type": "code",
   "execution_count": 1,
   "metadata": {
    "collapsed": true
   },
   "outputs": [],
   "source": [
    "import numpy as np\n",
    "import pandas as pd"
   ]
  },
  {
   "cell_type": "code",
   "execution_count": 2,
   "metadata": {
    "collapsed": true
   },
   "outputs": [],
   "source": [
    "rng = pd.date_range('3/6/2012 00:00', periods = 15, freq = 'D')\n",
    "rng.tz"
   ]
  },
  {
   "cell_type": "code",
   "execution_count": 3,
   "metadata": {
    "collapsed": false
   },
   "outputs": [
    {
     "data": {
      "text/plain": [
       "<DstTzInfo 'Europe/London' LMT-1 day, 23:59:00 STD>"
      ]
     },
     "execution_count": 3,
     "metadata": {},
     "output_type": "execute_result"
    }
   ],
   "source": [
    "rng_tz = pd.date_range('3/6/2012 00:00', periods = 15, freq = 'D', tz = 'Europe/London')\n",
    "rng_tz.tz"
   ]
  },
  {
   "cell_type": "code",
   "execution_count": 4,
   "metadata": {
    "collapsed": false
   },
   "outputs": [
    {
     "name": "stdout",
     "output_type": "stream",
     "text": [
      "436\n",
      "588\n",
      "{'Etc/GMT+12', 'America/Shiprock', 'US/Indiana-Starke', 'Australia/Yancowinna', 'America/Indianapolis', 'Etc/GMT-14', 'Europe/Belfast', 'US/Pacific-New', 'PRC', 'Etc/GMT-7', 'America/Argentina/ComodRivadavia', 'America/Catamarca', 'Etc/GMT', 'America/Porto_Acre', 'Brazil/Acre', 'Etc/GMT+5', 'Asia/Chongqing', 'MET', 'America/Montreal', 'W-SU', 'Japan', 'Pacific/Truk', 'Etc/GMT+7', 'GB', 'Singapore', 'Israel', 'Etc/UTC', 'Poland', 'America/Coral_Harbour', 'Etc/GMT+10', 'Australia/Queensland', 'Etc/GMT-8', 'Etc/GMT-11', 'Universal', 'CST6CDT', 'America/Louisville', 'US/East-Indiana', 'Asia/Ujung_Pandang', 'HST', 'Asia/Dacca', 'Zulu', 'Eire', 'Brazil/East', 'Etc/GMT-0', 'Etc/GMT+3', 'Etc/GMT-3', 'America/Mendoza', 'Etc/GMT+4', 'Atlantic/Jan_Mayen', 'Asia/Kashgar', 'Chile/EasterIsland', 'Etc/Zulu', 'Africa/Asmera', 'Brazil/West', 'US/Samoa', 'Etc/GMT+6', 'Etc/GMT-2', 'Etc/GMT+9', 'Europe/Tiraspol', 'Etc/GMT+1', 'Asia/Istanbul', 'Australia/West', 'Etc/GMT+11', 'Pacific/Samoa', 'America/Fort_Wayne', 'GB-Eire', 'Portugal', 'America/Buenos_Aires', 'Africa/Timbuktu', 'Asia/Calcutta', 'EST', 'US/Aleutian', 'Europe/Nicosia', 'America/Cordoba', 'America/Atka', 'Hongkong', 'Etc/UCT', 'Greenwich', 'Asia/Katmandu', 'Asia/Chungking', 'NZ', 'Asia/Ashkhabad', 'Chile/Continental', 'UCT', 'US/Michigan', 'NZ-CHAT', 'Jamaica', 'CET', 'Etc/Universal', 'Etc/GMT-4', 'Atlantic/Faeroe', 'Pacific/Ponape', 'GMT+0', 'Australia/NSW', 'Iceland', 'GMT0', 'Etc/GMT-6', 'America/Ensenada', 'Australia/South', 'Australia/LHI', 'Etc/GMT-5', 'PST8PDT', 'Turkey', 'Mexico/BajaNorte', 'Canada/East-Saskatchewan', 'Asia/Macao', 'Mexico/BajaSur', 'America/Virgin', 'MST', 'America/Jujuy', 'Australia/Tasmania', 'Navajo', 'Canada/Saskatchewan', 'Iran', 'America/Rosario', 'Etc/GMT-10', 'Australia/North', 'ROK', 'Pacific/Yap', 'MST7MDT', 'Libya', 'EET', 'Etc/GMT+0', 'Etc/GMT-1', 'Etc/GMT-12', 'Etc/GMT-9', 'Australia/Victoria', 'Asia/Saigon', 'Etc/GMT-13', 'Brazil/DeNoronha', 'Asia/Thimbu', 'Australia/ACT', 'Egypt', 'GMT-0', 'Canada/Yukon', 'Etc/Greenwich', 'Mexico/General', 'Etc/GMT+2', 'Cuba', 'Etc/GMT+8', 'EST5EDT', 'Etc/GMT0', 'Australia/Canberra', 'America/Knox_IN', 'Asia/Tel_Aviv', 'Antarctica/South_Pole', 'WET', 'ROC', 'Asia/Harbin', 'Kwajalein', 'Asia/Ulan_Bator', 'America/Santa_Isabel'}\n"
     ]
    }
   ],
   "source": [
    "from pytz import common_timezones, all_timezones\n",
    "print(len(common_timezones))\n",
    "print(len(all_timezones))\n",
    "print(set(all_timezones) - set(common_timezones))"
   ]
  },
  {
   "cell_type": "code",
   "execution_count": 5,
   "metadata": {
    "collapsed": false
   },
   "outputs": [
    {
     "data": {
      "text/plain": [
       "Timestamp('2016-07-10 08:50:00')"
      ]
     },
     "execution_count": 5,
     "metadata": {},
     "output_type": "execute_result"
    }
   ],
   "source": [
    "# You can also localize a naive timestamp\n",
    "t_naive = pd.Timestamp('2016-07-10 08:50')\n",
    "t_naive"
   ]
  },
  {
   "cell_type": "code",
   "execution_count": 6,
   "metadata": {
    "collapsed": false
   },
   "outputs": [
    {
     "data": {
      "text/plain": [
       "Timestamp('2016-07-10 08:50:00-0500', tz='US/Central')"
      ]
     },
     "execution_count": 6,
     "metadata": {},
     "output_type": "execute_result"
    }
   ],
   "source": [
    "t = t_naive.tz_localize(tz = 'US/Central')\n",
    "t"
   ]
  },
  {
   "cell_type": "code",
   "execution_count": 7,
   "metadata": {
    "collapsed": false
   },
   "outputs": [
    {
     "data": {
      "text/plain": [
       "Timestamp('2016-07-10 22:50:00+0900', tz='Asia/Tokyo')"
      ]
     },
     "execution_count": 7,
     "metadata": {},
     "output_type": "execute_result"
    }
   ],
   "source": [
    "t.tz_convert('Asia/Tokyo')"
   ]
  },
  {
   "cell_type": "code",
   "execution_count": 8,
   "metadata": {
    "collapsed": false
   },
   "outputs": [
    {
     "data": {
      "text/plain": [
       "2016-03-10 00:00:00-06:00    0\n",
       "2016-03-11 00:00:00-06:00    1\n",
       "2016-03-12 00:00:00-06:00    2\n",
       "2016-03-13 00:00:00-06:00    3\n",
       "2016-03-14 00:00:00-05:00    4\n",
       "2016-03-15 00:00:00-05:00    5\n",
       "2016-03-16 00:00:00-05:00    6\n",
       "2016-03-17 00:00:00-05:00    7\n",
       "2016-03-18 00:00:00-05:00    8\n",
       "2016-03-19 00:00:00-05:00    9\n",
       "Freq: D, dtype: int32"
      ]
     },
     "execution_count": 8,
     "metadata": {},
     "output_type": "execute_result"
    }
   ],
   "source": [
    "# how to handle daylight savings?\n",
    "rng = pd.date_range('2016-03-10', periods=10, tz='US/Central')\n",
    "ts = pd.Series(range(10), index=rng)\n",
    "ts"
   ]
  },
  {
   "cell_type": "code",
   "execution_count": 9,
   "metadata": {
    "collapsed": false
   },
   "outputs": [
    {
     "data": {
      "text/plain": [
       "2016-03-10 00:00:00+00:00    0\n",
       "2016-03-11 00:00:00+00:00    1\n",
       "2016-03-12 00:00:00+00:00    2\n",
       "2016-03-13 00:00:00+00:00    3\n",
       "2016-03-14 00:00:00+00:00    4\n",
       "2016-03-15 00:00:00+00:00    5\n",
       "2016-03-16 00:00:00+00:00    6\n",
       "2016-03-17 00:00:00+00:00    7\n",
       "2016-03-18 00:00:00+00:00    8\n",
       "2016-03-19 00:00:00+00:00    9\n",
       "Freq: D, dtype: int32"
      ]
     },
     "execution_count": 9,
     "metadata": {},
     "output_type": "execute_result"
    }
   ],
   "source": [
    "rng = pd.date_range('2016-03-10', periods=10, tz='utc')\n",
    "ts = pd.Series(range(10), index=rng)\n",
    "ts"
   ]
  },
  {
   "cell_type": "code",
   "execution_count": 10,
   "metadata": {
    "collapsed": false
   },
   "outputs": [
    {
     "data": {
      "text/plain": [
       "2016-03-09 18:00:00-06:00    0\n",
       "2016-03-10 18:00:00-06:00    1\n",
       "2016-03-11 18:00:00-06:00    2\n",
       "2016-03-12 18:00:00-06:00    3\n",
       "2016-03-13 19:00:00-05:00    4\n",
       "2016-03-14 19:00:00-05:00    5\n",
       "2016-03-15 19:00:00-05:00    6\n",
       "2016-03-16 19:00:00-05:00    7\n",
       "2016-03-17 19:00:00-05:00    8\n",
       "2016-03-18 19:00:00-05:00    9\n",
       "Freq: D, dtype: int32"
      ]
     },
     "execution_count": 10,
     "metadata": {},
     "output_type": "execute_result"
    }
   ],
   "source": [
    "ts.tz_convert('US/Central')"
   ]
  },
  {
   "cell_type": "code",
   "execution_count": 11,
   "metadata": {
    "collapsed": false
   },
   "outputs": [
    {
     "data": {
      "text/plain": [
       "DatetimeIndex(['2016-03-12 22:00:00-05:00', '2016-03-12 23:00:00-05:00',\n",
       "               '2016-03-13 00:00:00-05:00', '2016-03-13 01:00:00-05:00',\n",
       "               '2016-03-13 03:00:00-04:00', '2016-03-13 04:00:00-04:00',\n",
       "               '2016-03-13 05:00:00-04:00', '2016-03-13 06:00:00-04:00',\n",
       "               '2016-03-13 07:00:00-04:00', '2016-03-13 08:00:00-04:00',\n",
       "               '2016-03-13 09:00:00-04:00', '2016-03-13 10:00:00-04:00'],\n",
       "              dtype='datetime64[ns, US/Eastern]', freq='H')"
      ]
     },
     "execution_count": 11,
     "metadata": {},
     "output_type": "execute_result"
    }
   ],
   "source": [
    "pd.date_range('03-12-2016 22:00', periods = 12, freq = 'H', tz = 'US/Eastern')"
   ]
  },
  {
   "cell_type": "code",
   "execution_count": 12,
   "metadata": {
    "collapsed": false
   },
   "outputs": [
    {
     "data": {
      "text/plain": [
       "Timestamp('2016-03-13 03:00:00-0400', tz='US/Eastern')"
      ]
     },
     "execution_count": 12,
     "metadata": {},
     "output_type": "execute_result"
    }
   ],
   "source": [
    "# May autocorrect an error rather than giving you a non-existent time error\n",
    "pd.Timestamp('2016-03-13 02:00', tz = 'US/Eastern')"
   ]
  },
  {
   "cell_type": "code",
   "execution_count": null,
   "metadata": {
    "collapsed": true
   },
   "outputs": [],
   "source": []
  }
 ],
 "metadata": {
  "kernelspec": {
   "display_name": "Python [default]",
   "language": "python",
   "name": "python3"
  },
  "language_info": {
   "codemirror_mode": {
    "name": "ipython",
    "version": 3
   },
   "file_extension": ".py",
   "mimetype": "text/x-python",
   "name": "python",
   "nbconvert_exporter": "python",
   "pygments_lexer": "ipython3",
   "version": "3.5.2"
  }
 },
 "nbformat": 4,
 "nbformat_minor": 0
}
