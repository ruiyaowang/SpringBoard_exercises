{
 "cells": [
  {
   "cell_type": "markdown",
   "metadata": {},
   "source": [
    "# XML example and exercise\n",
    "****\n",
    "+ study examples of accessing nodes in XML tree structure  \n",
    "+ work on exercise to be completed and submitted\n",
    "****\n",
    "+ reference: https://docs.python.org/2.7/library/xml.etree.elementtree.html\n",
    "+ data source: http://www.dbis.informatik.uni-goettingen.de/Mondial\n",
    "****"
   ]
  },
  {
   "cell_type": "code",
   "execution_count": 1,
   "metadata": {
    "collapsed": true
   },
   "outputs": [],
   "source": [
    "from xml.etree import ElementTree as ET"
   ]
  },
  {
   "cell_type": "markdown",
   "metadata": {},
   "source": [
    "## XML example\n",
    "\n",
    "+ for details about tree traversal and iterators, see https://docs.python.org/2.7/library/xml.etree.elementtree.html"
   ]
  },
  {
   "cell_type": "code",
   "execution_count": 2,
   "metadata": {
    "collapsed": true
   },
   "outputs": [],
   "source": [
    "document_tree = ET.parse( './data/mondial_database_less.xml' )"
   ]
  },
  {
   "cell_type": "code",
   "execution_count": 3,
   "metadata": {
    "collapsed": false
   },
   "outputs": [
    {
     "name": "stdout",
     "output_type": "stream",
     "text": [
      "Albania\n",
      "Greece\n",
      "Macedonia\n",
      "Serbia\n",
      "Montenegro\n",
      "Kosovo\n",
      "Andorra\n"
     ]
    }
   ],
   "source": [
    "# print names of all countries\n",
    "for child in document_tree.getroot():\n",
    "    print (child.find('name').text)"
   ]
  },
  {
   "cell_type": "code",
   "execution_count": 4,
   "metadata": {
    "collapsed": false
   },
   "outputs": [
    {
     "name": "stdout",
     "output_type": "stream",
     "text": [
      "* Albania:\n",
      "Tirana, Shkodër, Durrës, Vlorë, Elbasan, Korçë\n",
      "* Greece:\n",
      "Komotini, Kavala, Athina, Peiraias, Peristeri, Acharnes, Patra, Kozani, Kerkyra, Ioannina, Thessaloniki, Iraklio, Chania, Ermoupoli, Rhodes, Tripoli, Lamia, Chalkida, Larissa, Volos, Mytilini, Karyes\n",
      "* Macedonia:\n",
      "Skopje, Kumanovo\n",
      "* Serbia:\n",
      "Beograd, Novi Sad, Niš\n",
      "* Montenegro:\n",
      "Podgorica\n",
      "* Kosovo:\n",
      "Prishtine\n",
      "* Andorra:\n",
      "Andorra la Vella\n"
     ]
    }
   ],
   "source": [
    "# print names of all countries and their cities\n",
    "for element in document_tree.iterfind('country'):\n",
    "    print ('* ' + element.find('name').text + ':'),\n",
    "    capitals_string = ''\n",
    "    for subelement in element.getiterator('city'):\n",
    "        capitals_string += subelement.find('name').text + ', '\n",
    "    print (capitals_string[:-2])"
   ]
  },
  {
   "cell_type": "markdown",
   "metadata": {},
   "source": [
    "****\n",
    "## XML exercise\n",
    "\n",
    "Using data in 'data/mondial_database.xml', the examples above, and refering to https://docs.python.org/2.7/library/xml.etree.elementtree.html, find\n",
    "\n",
    "1. 10 countries with the lowest infant mortality rates\n",
    "2. 10 cities with the largest population\n",
    "3. 10 ethnic groups with the largest overall populations (sum of best/latest estimates over all countries)\n",
    "4. name and country of a) longest river, b) largest lake and c) airport at highest elevation"
   ]
  },
  {
   "cell_type": "code",
   "execution_count": 5,
   "metadata": {
    "collapsed": true
   },
   "outputs": [],
   "source": [
    "document = ET.parse( './data/mondial_database.xml' )"
   ]
  },
  {
   "cell_type": "code",
   "execution_count": 6,
   "metadata": {
    "collapsed": false
   },
   "outputs": [
    {
     "data": {
      "text/plain": [
       "<xml.etree.ElementTree.ElementTree at 0xb66cf47eb8>"
      ]
     },
     "execution_count": 6,
     "metadata": {},
     "output_type": "execute_result"
    }
   ],
   "source": [
    "type(document)\n",
    "document"
   ]
  },
  {
   "cell_type": "markdown",
   "metadata": {},
   "source": [
    "#  10 countries with the lowest infant mortality rates"
   ]
  },
  {
   "cell_type": "code",
   "execution_count": 7,
   "metadata": {
    "collapsed": false
   },
   "outputs": [
    {
     "data": {
      "text/plain": [
       "array(['Monaco', 'Japan', 'Norway', 'Bermuda', 'Singapore', 'Sweden',\n",
       "       'Czech Republic', 'Hong Kong', 'Macao', 'Iceland'], dtype=object)"
      ]
     },
     "execution_count": 7,
     "metadata": {},
     "output_type": "execute_result"
    }
   ],
   "source": [
    "import pandas as pd\n",
    "countries=[]\n",
    "infant_mortality=[]\n",
    "for element in document.iterfind('country'):\n",
    "    if element.find('infant_mortality')!=None:\n",
    "        countries.append(element.find('name').text)\n",
    "        infant_mortality.append(float(element.find('infant_mortality').text))\n",
    "a=pd.DataFrame(list(zip(countries,infant_mortality)),columns=['countries','infant_mortality'])\n",
    "a=a.set_index('countries',drop=True)\n",
    "b=a['infant_mortality'].nsmallest(10).index.values\n",
    "b\n",
    "#infant_mortality_contries=pd.Series(infant_mortality, index=countries)\n",
    "#infant_mortality_contries.nlargest(10).index"
   ]
  },
  {
   "cell_type": "markdown",
   "metadata": {
    "collapsed": false
   },
   "source": [
    "# 10 cities with the largest population\n"
   ]
  },
  {
   "cell_type": "code",
   "execution_count": 8,
   "metadata": {
    "collapsed": false
   },
   "outputs": [
    {
     "data": {
      "text/plain": [
       "array(['Mumbai', 'Delhi', 'Bangalore', 'London', 'Tehran', 'Dhaka',\n",
       "       'Hyderabad', 'Ahmadabad', 'Luanda', 'Chennai'], dtype=object)"
      ]
     },
     "execution_count": 8,
     "metadata": {},
     "output_type": "execute_result"
    }
   ],
   "source": [
    "# compare only with population at 2011:\n",
    "cities=[]\n",
    "population=[]\n",
    "for element in document.iterfind('country'):    \n",
    "    for subelement in element.getiterator('city'):\n",
    "        for pop in subelement.getiterator('population'):\n",
    "            if pop.get('year')=='2011':                 \n",
    "                cities.append(subelement.find('name').text)  \n",
    "                population.append(int(pop.text))\n",
    "a=pd.DataFrame(list(zip(cities,population)),columns=['cities','population'])\n",
    "a=a.set_index('cities',drop=True)\n",
    "b=a['population'].nlargest(10).index.values\n",
    "b"
   ]
  },
  {
   "cell_type": "markdown",
   "metadata": {
    "collapsed": true
   },
   "source": [
    "# 10 ethnic groups with the largest overall populations (sum of best/latest estimates over all countries)"
   ]
  },
  {
   "cell_type": "code",
   "execution_count": 9,
   "metadata": {
    "collapsed": false
   },
   "outputs": [
    {
     "data": {
      "text/plain": [
       "array(['Indo-Aryan', 'Dravidian', 'African', 'Bengali', 'German',\n",
       "       'English', 'Mediterranean Nordic', 'Persian', 'Mongol', 'European'], dtype=object)"
      ]
     },
     "execution_count": 9,
     "metadata": {},
     "output_type": "execute_result"
    }
   ],
   "source": [
    "# still use 2011 year population for comparison. \n",
    "group={}\n",
    "for element in document.iterfind('country'):    \n",
    "    for pop in element.getiterator('population'):\n",
    "        if (pop.get('year')=='2011') & (element.find('ethnicgroup')!=None):             \n",
    "            popN=int(pop.text)\n",
    "            for eth in element.getiterator('ethnicgroup'):\n",
    "                group[eth.text]=group.setdefault(eth.text,0)+popN*float(eth.get('percentage'))\n",
    "                \n",
    "a=pd.Series(group)   \n",
    "a.nlargest(10).index.values"
   ]
  },
  {
   "cell_type": "markdown",
   "metadata": {
    "collapsed": true
   },
   "source": [
    "# name and country of a) longest river, b) largest lake and c) airport at highest elevation"
   ]
  },
  {
   "cell_type": "code",
   "execution_count": 10,
   "metadata": {
    "collapsed": false
   },
   "outputs": [
    {
     "name": "stdout",
     "output_type": "stream",
     "text": [
      "The longest river is Amazonas, it is located in CO BR PE\n"
     ]
    }
   ],
   "source": [
    "#longest river\n",
    "countries=[]\n",
    "river=[]\n",
    "length=[]\n",
    "for element in document.iterfind('river'):\n",
    "    if element.find('length')!= None:\n",
    "        countries.append(element.get('country'))\n",
    "        river.append(element.find('name').text)\n",
    "        length.append(float(element.find('length').text))\n",
    "a=pd.DataFrame(list(zip(countries,river,length)),columns=['countries','river','length'])\n",
    "a=a.set_index('length',drop=True)\n",
    "print ('The longest river is {}, it is located in {}'.format(a.loc[a.index.max(),'river'],a.loc[a.index.max(),'countries']))\n",
    "        "
   ]
  },
  {
   "cell_type": "code",
   "execution_count": 11,
   "metadata": {
    "collapsed": false
   },
   "outputs": [
    {
     "name": "stdout",
     "output_type": "stream",
     "text": [
      "The largest lake is Caspian Sea, it is located in R AZ KAZ IR TM\n"
     ]
    }
   ],
   "source": [
    "#largest lake\n",
    "countries=[]\n",
    "lake=[]\n",
    "area=[]\n",
    "for element in document.iterfind('lake'):\n",
    "    if element.find('area')!= None:\n",
    "        countries.append(element.get('country'))\n",
    "        lake.append(element.find('name').text)\n",
    "        area.append(float(element.find('area').text))\n",
    "a=pd.DataFrame(list(zip(countries,lake,area)),columns=['countries','lake','area'])\n",
    "a=a.set_index('area',drop=True)\n",
    "print ('The largest lake is {}, it is located in {}'.format(a.loc[a.index.max(),'lake'],a.loc[a.index.max(),'countries']))       "
   ]
  },
  {
   "cell_type": "code",
   "execution_count": 12,
   "metadata": {
    "collapsed": false
   },
   "outputs": [
    {
     "name": "stdout",
     "output_type": "stream",
     "text": [
      "The highest elevation airport is El Alto Intl, it is located in BOL\n"
     ]
    }
   ],
   "source": [
    "#airport at highest elevation\n",
    "countries=[]\n",
    "airport=[]\n",
    "elevation=[]\n",
    "for element in document.iterfind('airport'):\n",
    "    if element.find('elevation').text!= None:\n",
    "        countries.append(element.get('country'))\n",
    "        airport.append(element.find('name').text)\n",
    "        elevation.append(int(element.find('elevation').text))\n",
    "a=pd.DataFrame(list(zip(countries,airport,elevation)),columns=['countries','airport','elevation'])\n",
    "a=a.set_index('elevation',drop=True)\n",
    "print ('The highest elevation airport is {}, it is located in {}'.format(a.loc[a.index.max(),'airport'],a.loc[a.index.max(),'countries']))"
   ]
  },
  {
   "cell_type": "code",
   "execution_count": null,
   "metadata": {
    "collapsed": true
   },
   "outputs": [],
   "source": []
  }
 ],
 "metadata": {
  "anaconda-cloud": {},
  "kernelspec": {
   "display_name": "Python [conda root]",
   "language": "python",
   "name": "conda-root-py"
  },
  "language_info": {
   "codemirror_mode": {
    "name": "ipython",
    "version": 3
   },
   "file_extension": ".py",
   "mimetype": "text/x-python",
   "name": "python",
   "nbconvert_exporter": "python",
   "pygments_lexer": "ipython3",
   "version": "3.5.2"
  }
 },
 "nbformat": 4,
 "nbformat_minor": 0
}
